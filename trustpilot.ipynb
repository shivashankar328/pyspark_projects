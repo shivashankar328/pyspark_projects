{
  "nbformat": 4,
  "nbformat_minor": 0,
  "metadata": {
    "colab": {
      "provenance": [],
      "toc_visible": true,
      "authorship_tag": "ABX9TyMyxTbvSBqf9/AQNGkERhqh",
      "include_colab_link": true
    },
    "kernelspec": {
      "name": "python3",
      "display_name": "Python 3"
    },
    "language_info": {
      "name": "python"
    }
  },
  "cells": [
    {
      "cell_type": "markdown",
      "metadata": {
        "id": "view-in-github",
        "colab_type": "text"
      },
      "source": [
        "<a href=\"https://colab.research.google.com/github/shivashankar328/pyspark_projects/blob/main/trustpilot.ipynb\" target=\"_parent\"><img src=\"https://colab.research.google.com/assets/colab-badge.svg\" alt=\"Open In Colab\"/></a>"
      ]
    },
    {
      "cell_type": "code",
      "execution_count": 2,
      "metadata": {
        "colab": {
          "base_uri": "https://localhost:8080/"
        },
        "id": "K1kPMCvYwj4s",
        "outputId": "d336675e-6078-424f-bfe0-d371c48a7151"
      },
      "outputs": [
        {
          "output_type": "stream",
          "name": "stdout",
          "text": [
            "Collecting pyspark\n",
            "  Downloading pyspark-3.5.1.tar.gz (317.0 MB)\n",
            "\u001b[2K     \u001b[90m━━━━━━━━━━━━━━━━━━━━━━━━━━━━━━━━━━━━━━━━\u001b[0m \u001b[32m317.0/317.0 MB\u001b[0m \u001b[31m4.4 MB/s\u001b[0m eta \u001b[36m0:00:00\u001b[0m\n",
            "\u001b[?25h  Preparing metadata (setup.py) ... \u001b[?25l\u001b[?25hdone\n",
            "Requirement already satisfied: py4j==0.10.9.7 in /usr/local/lib/python3.10/dist-packages (from pyspark) (0.10.9.7)\n",
            "Building wheels for collected packages: pyspark\n",
            "  Building wheel for pyspark (setup.py) ... \u001b[?25l\u001b[?25hdone\n",
            "  Created wheel for pyspark: filename=pyspark-3.5.1-py2.py3-none-any.whl size=317488491 sha256=78a9ae6dd26f1f5ead18dfcfd29ac3ba104173c5fa65eeac04fc815b5f5a996d\n",
            "  Stored in directory: /root/.cache/pip/wheels/80/1d/60/2c256ed38dddce2fdd93be545214a63e02fbd8d74fb0b7f3a6\n",
            "Successfully built pyspark\n",
            "Installing collected packages: pyspark\n",
            "Successfully installed pyspark-3.5.1\n"
          ]
        }
      ],
      "source": [
        "!pip install pyspark"
      ]
    },
    {
      "cell_type": "code",
      "source": [
        "from pyspark.sql import SparkSession\n",
        "from pyspark import SparkConf\n",
        "from pyspark.sql.types import ArrayType, StringType, StructType, StructField, BooleanType\n",
        "from pyspark.sql.functions import col, explode, from_json"
      ],
      "metadata": {
        "id": "6MPlGc9vw1kE"
      },
      "execution_count": 3,
      "outputs": []
    },
    {
      "cell_type": "code",
      "source": [
        "spark = SparkSession.builder.appName('trustpilot_data').getOrCreate()"
      ],
      "metadata": {
        "id": "AqdFj_eGwpEZ"
      },
      "execution_count": 4,
      "outputs": []
    },
    {
      "cell_type": "code",
      "source": [
        "df = spark.read.csv('trustpilot_insurance.csv', header=True, inferSchema=True)"
      ],
      "metadata": {
        "id": "Nip8IB4qxK-2"
      },
      "execution_count": 33,
      "outputs": []
    },
    {
      "cell_type": "code",
      "source": [
        "df.describe().show()"
      ],
      "metadata": {
        "colab": {
          "base_uri": "https://localhost:8080/"
        },
        "id": "4MGxbzuFxLJf",
        "outputId": "b5192d0a-1038-41bb-8b3d-ac570abc8f6d"
      },
      "execution_count": 6,
      "outputs": [
        {
          "output_type": "stream",
          "name": "stdout",
          "text": [
            "+-------+--------------------+------------------+--------------------+------------------+--------------------+------------------+------------------+--------------------+--------------------+--------------------+\n",
            "|summary|      businessUnitId|             stars|     identifyingName|       displayName|             logoUrl|   numberOfReviews|        trustScore|            location|             contact|          categories|\n",
            "+-------+--------------------+------------------+--------------------+------------------+--------------------+------------------+------------------+--------------------+--------------------+--------------------+\n",
            "|  count|                  60|                60|                  60|                60|                  54|                60|                60|                  60|                  60|                  60|\n",
            "|   mean|                NULL| 3.566666666666667|                NULL|              NULL|                NULL| 2770.883333333333|3.5483333333333333|                NULL|                NULL|                NULL|\n",
            "| stddev|                NULL|1.6142025020158168|                NULL|              NULL|                NULL|11146.676397696834|1.5933645955848519|                NULL|                NULL|                NULL|\n",
            "|    min|511e70a6000064000...|               0.0|           aardy.com|             AARDY|//s3-eu-west-1.am...|                 0|               0.0|{'address': '1100...|{'website': 'http...|[{'categoryId': '...|\n",
            "|    max|6671b96c7bd895a3a...|               5.0|www.visitorsinsur...|insurewithease.com|//s3-eu-west-1.am...|             82240|               4.9|{'address': None,...|{'website': 'http...|[{'categoryId': '...|\n",
            "+-------+--------------------+------------------+--------------------+------------------+--------------------+------------------+------------------+--------------------+--------------------+--------------------+\n",
            "\n"
          ]
        }
      ]
    },
    {
      "cell_type": "code",
      "source": [
        "df.printSchema()"
      ],
      "metadata": {
        "colab": {
          "base_uri": "https://localhost:8080/"
        },
        "id": "wyAv9vtGsasJ",
        "outputId": "8fd12c8a-2198-4b25-b9a4-3bcd3f6aa318"
      },
      "execution_count": 7,
      "outputs": [
        {
          "output_type": "stream",
          "name": "stdout",
          "text": [
            "root\n",
            " |-- businessUnitId: string (nullable = true)\n",
            " |-- stars: double (nullable = true)\n",
            " |-- identifyingName: string (nullable = true)\n",
            " |-- displayName: string (nullable = true)\n",
            " |-- logoUrl: string (nullable = true)\n",
            " |-- numberOfReviews: integer (nullable = true)\n",
            " |-- trustScore: double (nullable = true)\n",
            " |-- location: string (nullable = true)\n",
            " |-- isRecommendedInCategories: boolean (nullable = true)\n",
            " |-- contact: string (nullable = true)\n",
            " |-- categories: string (nullable = true)\n",
            "\n"
          ]
        }
      ]
    },
    {
      "cell_type": "code",
      "source": [
        "#drop unwanted columns\n",
        "columns_todrop = ['businessUnitId','stars','identifyingName','logoUrl','isRecommendedInCategories']\n",
        "df = df.drop(*columns_todrop)\n",
        "df.show(5)"
      ],
      "metadata": {
        "colab": {
          "base_uri": "https://localhost:8080/"
        },
        "id": "lFtu29GExbK4",
        "outputId": "7b318508-a4e6-4849-c192-11b3c6b3b376"
      },
      "execution_count": 34,
      "outputs": [
        {
          "output_type": "stream",
          "name": "stdout",
          "text": [
            "+--------------------+---------------+----------+--------------------+--------------------+--------------------+\n",
            "|         displayName|numberOfReviews|trustScore|            location|             contact|          categories|\n",
            "+--------------------+---------------+----------+--------------------+--------------------+--------------------+\n",
            "|Allianz Partners USA|          82240|       4.2|{'address': '9950...|{'website': 'http...|[{'categoryId': '...|\n",
            "|               AARDY|          25453|       4.9|{'address': '1200...|{'website': 'http...|[{'categoryId': '...|\n",
            "|            QEEQ.COM|          12298|       4.2|{'address': None,...|{'website': 'http...|[{'categoryId': '...|\n",
            "|                IMG®|          11458|       4.6|{'address': '9200...|{'website': 'http...|[{'categoryId': '...|\n",
            "|VisitorsCoverage ...|           6146|       4.7|{'address': '2350...|{'website': 'http...|[{'categoryId': '...|\n",
            "+--------------------+---------------+----------+--------------------+--------------------+--------------------+\n",
            "only showing top 5 rows\n",
            "\n"
          ]
        }
      ]
    },
    {
      "cell_type": "code",
      "source": [
        "# renaming the columns\n",
        "df = df.withColumnRenamed('_c0', 'id') \\\n",
        "    .withColumnRenamed('displayName', 'companyname') \\\n",
        "    .withColumnRenamed('trustScore', 'rating')\n",
        "df.show(5)"
      ],
      "metadata": {
        "colab": {
          "base_uri": "https://localhost:8080/"
        },
        "id": "ZvemUINuxbOB",
        "outputId": "d8e70693-91ca-488e-93a7-8b43295a493c"
      },
      "execution_count": 35,
      "outputs": [
        {
          "output_type": "stream",
          "name": "stdout",
          "text": [
            "+--------------------+---------------+------+--------------------+--------------------+--------------------+\n",
            "|         companyname|numberOfReviews|rating|            location|             contact|          categories|\n",
            "+--------------------+---------------+------+--------------------+--------------------+--------------------+\n",
            "|Allianz Partners USA|          82240|   4.2|{'address': '9950...|{'website': 'http...|[{'categoryId': '...|\n",
            "|               AARDY|          25453|   4.9|{'address': '1200...|{'website': 'http...|[{'categoryId': '...|\n",
            "|            QEEQ.COM|          12298|   4.2|{'address': None,...|{'website': 'http...|[{'categoryId': '...|\n",
            "|                IMG®|          11458|   4.6|{'address': '9200...|{'website': 'http...|[{'categoryId': '...|\n",
            "|VisitorsCoverage ...|           6146|   4.7|{'address': '2350...|{'website': 'http...|[{'categoryId': '...|\n",
            "+--------------------+---------------+------+--------------------+--------------------+--------------------+\n",
            "only showing top 5 rows\n",
            "\n"
          ]
        }
      ]
    },
    {
      "cell_type": "code",
      "source": [
        "#loacrtion column data\n",
        "df.select('location').show(5)\n",
        "df.select('location').take(5)"
      ],
      "metadata": {
        "colab": {
          "base_uri": "https://localhost:8080/"
        },
        "id": "o18l_uCsxbRr",
        "outputId": "b0a66fc0-4472-4afa-8e7e-bacc88f947a3"
      },
      "execution_count": 10,
      "outputs": [
        {
          "output_type": "stream",
          "name": "stdout",
          "text": [
            "+--------------------+\n",
            "|            location|\n",
            "+--------------------+\n",
            "|{'address': '9950...|\n",
            "|{'address': '1200...|\n",
            "|{'address': None,...|\n",
            "|{'address': '9200...|\n",
            "|{'address': '2350...|\n",
            "+--------------------+\n",
            "only showing top 5 rows\n",
            "\n"
          ]
        },
        {
          "output_type": "execute_result",
          "data": {
            "text/plain": [
              "[Row(location=\"{'address': '9950 Mayland Drive', 'city': 'Richmond', 'zipCode': '23233', 'country': 'United States'}\"),\n",
              " Row(location=\"{'address': '1200 South Pine Island Road', 'city': 'Plantation', 'zipCode': 'FL 33324', 'country': 'United States'}\"),\n",
              " Row(location=\"{'address': None, 'city': None, 'zipCode': None, 'country': 'United States'}\"),\n",
              " Row(location=\"{'address': '9200 Keystone Crossing', 'city': 'Indianapolis', 'zipCode': '46240', 'country': 'United States'}\"),\n",
              " Row(location=\"{'address': '2350 Mission College Blvd, STE 1140', 'city': 'Santa Clara', 'zipCode': '95054', 'country': 'United States'}\")]"
            ]
          },
          "metadata": {},
          "execution_count": 10
        }
      ]
    },
    {
      "cell_type": "code",
      "source": [
        "# create new columns and extract address, city, zipcode, country from location column\n",
        "from pyspark.sql.functions import regexp_replace\n",
        "from pyspark.sql.types import IntegerType\n",
        "location_schema = StructType([\n",
        "                  StructField('address', StringType(), True),\n",
        "                  StructField('city', StringType(), True),\n",
        "                  StructField('zipCode', StringType(), True),\n",
        "                  StructField('country', StringType(), True)\n",
        "                ])\n",
        "df = df.withColumn('location', regexp_replace(col('location'), \"None\", 'null'))\n",
        "df_new = df.withColumn('location_json', from_json(col('location'), location_schema))\n",
        "df_new.show(5)"
      ],
      "metadata": {
        "colab": {
          "base_uri": "https://localhost:8080/"
        },
        "id": "jZ78itxLs5qc",
        "outputId": "0dbb2f08-dcd1-4ced-dcbd-585df9d01673"
      },
      "execution_count": 36,
      "outputs": [
        {
          "output_type": "stream",
          "name": "stdout",
          "text": [
            "+--------------------+---------------+------+--------------------+--------------------+--------------------+--------------------+\n",
            "|         companyname|numberOfReviews|rating|            location|             contact|          categories|       location_json|\n",
            "+--------------------+---------------+------+--------------------+--------------------+--------------------+--------------------+\n",
            "|Allianz Partners USA|          82240|   4.2|{'address': '9950...|{'website': 'http...|[{'categoryId': '...|{9950 Mayland Dri...|\n",
            "|               AARDY|          25453|   4.9|{'address': '1200...|{'website': 'http...|[{'categoryId': '...|{1200 South Pine ...|\n",
            "|            QEEQ.COM|          12298|   4.2|{'address': null,...|{'website': 'http...|[{'categoryId': '...|{NULL, NULL, NULL...|\n",
            "|                IMG®|          11458|   4.6|{'address': '9200...|{'website': 'http...|[{'categoryId': '...|{9200 Keystone Cr...|\n",
            "|VisitorsCoverage ...|           6146|   4.7|{'address': '2350...|{'website': 'http...|[{'categoryId': '...|{2350 Mission Col...|\n",
            "+--------------------+---------------+------+--------------------+--------------------+--------------------+--------------------+\n",
            "only showing top 5 rows\n",
            "\n"
          ]
        }
      ]
    },
    {
      "cell_type": "code",
      "source": [
        "df_new.select('location_json').take(5)"
      ],
      "metadata": {
        "colab": {
          "base_uri": "https://localhost:8080/"
        },
        "id": "jFamDuL1wtDm",
        "outputId": "990702f2-c8f7-4593-83d4-a4721d92a6a5"
      },
      "execution_count": 37,
      "outputs": [
        {
          "output_type": "execute_result",
          "data": {
            "text/plain": [
              "[Row(location_json=Row(address='9950 Mayland Drive', city='Richmond', zipCode='23233', country='United States')),\n",
              " Row(location_json=Row(address='1200 South Pine Island Road', city='Plantation', zipCode='FL 33324', country='United States')),\n",
              " Row(location_json=Row(address=None, city=None, zipCode=None, country='United States')),\n",
              " Row(location_json=Row(address='9200 Keystone Crossing', city='Indianapolis', zipCode='46240', country='United States')),\n",
              " Row(location_json=Row(address='2350 Mission College Blvd, STE 1140', city='Santa Clara', zipCode='95054', country='United States'))]"
            ]
          },
          "metadata": {},
          "execution_count": 37
        }
      ]
    },
    {
      "cell_type": "code",
      "source": [
        "#unzip the location_json data\n",
        "df_new = df_new.withColumn('address', df_new['location_json'].address)\\\n",
        "    .withColumn('city', df_new['location_json'].city)\\\n",
        "    .withColumn('zipcode', df_new['location_json'].zipCode)\\\n",
        "    .withColumn('country', df_new['location_json'].country)\n",
        "df_new.show(5)"
      ],
      "metadata": {
        "colab": {
          "base_uri": "https://localhost:8080/"
        },
        "id": "ZMYnpFfzuxAU",
        "outputId": "97f63fc1-0a02-4f9c-fe1c-f4a2c3202287"
      },
      "execution_count": 38,
      "outputs": [
        {
          "output_type": "stream",
          "name": "stdout",
          "text": [
            "+--------------------+---------------+------+--------------------+--------------------+--------------------+--------------------+--------------------+------------+--------+-------------+\n",
            "|         companyname|numberOfReviews|rating|            location|             contact|          categories|       location_json|             address|        city| zipcode|      country|\n",
            "+--------------------+---------------+------+--------------------+--------------------+--------------------+--------------------+--------------------+------------+--------+-------------+\n",
            "|Allianz Partners USA|          82240|   4.2|{'address': '9950...|{'website': 'http...|[{'categoryId': '...|{9950 Mayland Dri...|  9950 Mayland Drive|    Richmond|   23233|United States|\n",
            "|               AARDY|          25453|   4.9|{'address': '1200...|{'website': 'http...|[{'categoryId': '...|{1200 South Pine ...|1200 South Pine I...|  Plantation|FL 33324|United States|\n",
            "|            QEEQ.COM|          12298|   4.2|{'address': null,...|{'website': 'http...|[{'categoryId': '...|{NULL, NULL, NULL...|                NULL|        NULL|    NULL|United States|\n",
            "|                IMG®|          11458|   4.6|{'address': '9200...|{'website': 'http...|[{'categoryId': '...|{9200 Keystone Cr...|9200 Keystone Cro...|Indianapolis|   46240|United States|\n",
            "|VisitorsCoverage ...|           6146|   4.7|{'address': '2350...|{'website': 'http...|[{'categoryId': '...|{2350 Mission Col...|2350 Mission Coll...| Santa Clara|   95054|United States|\n",
            "+--------------------+---------------+------+--------------------+--------------------+--------------------+--------------------+--------------------+------------+--------+-------------+\n",
            "only showing top 5 rows\n",
            "\n"
          ]
        }
      ]
    },
    {
      "cell_type": "code",
      "source": [
        "#method 2\n",
        "from pyspark.sql.functions import when\n",
        "df_new = df_new.withColumn('address', when(col('location_json').getItem('address').isNull(), 'N/A').otherwise(col('location_json').getItem('address')))\\\n",
        "    .withColumn('city', when(col('location_json').getItem('city').isNull(), 'N/A').otherwise(col('location_json').getItem('city')))\\\n",
        "    .withColumn('zipcode', when(col('location_json').getItem('zipCode').isNull(), 'N/A').otherwise(col('location_json').getItem('zipCode')))\\\n",
        "    .withColumn('country', when(col('location_json').getItem('country').isNull(), 'N/A').otherwise(col('location_json').getItem('country')))\n",
        "df_new.show(5)"
      ],
      "metadata": {
        "colab": {
          "base_uri": "https://localhost:8080/"
        },
        "id": "_ARmZBzjuxDq",
        "outputId": "22cd1fbb-dcf7-438e-9deb-caa9715443cc"
      },
      "execution_count": 39,
      "outputs": [
        {
          "output_type": "stream",
          "name": "stdout",
          "text": [
            "+--------------------+---------------+------+--------------------+--------------------+--------------------+--------------------+--------------------+------------+--------+-------------+\n",
            "|         companyname|numberOfReviews|rating|            location|             contact|          categories|       location_json|             address|        city| zipcode|      country|\n",
            "+--------------------+---------------+------+--------------------+--------------------+--------------------+--------------------+--------------------+------------+--------+-------------+\n",
            "|Allianz Partners USA|          82240|   4.2|{'address': '9950...|{'website': 'http...|[{'categoryId': '...|{9950 Mayland Dri...|  9950 Mayland Drive|    Richmond|   23233|United States|\n",
            "|               AARDY|          25453|   4.9|{'address': '1200...|{'website': 'http...|[{'categoryId': '...|{1200 South Pine ...|1200 South Pine I...|  Plantation|FL 33324|United States|\n",
            "|            QEEQ.COM|          12298|   4.2|{'address': null,...|{'website': 'http...|[{'categoryId': '...|{NULL, NULL, NULL...|                 N/A|         N/A|     N/A|United States|\n",
            "|                IMG®|          11458|   4.6|{'address': '9200...|{'website': 'http...|[{'categoryId': '...|{9200 Keystone Cr...|9200 Keystone Cro...|Indianapolis|   46240|United States|\n",
            "|VisitorsCoverage ...|           6146|   4.7|{'address': '2350...|{'website': 'http...|[{'categoryId': '...|{2350 Mission Col...|2350 Mission Coll...| Santa Clara|   95054|United States|\n",
            "+--------------------+---------------+------+--------------------+--------------------+--------------------+--------------------+--------------------+------------+--------+-------------+\n",
            "only showing top 5 rows\n",
            "\n"
          ]
        }
      ]
    },
    {
      "cell_type": "code",
      "source": [
        "#contact details\n",
        "df_new.select('contact').take(5)\n",
        "# df_new.select('contact').dtypes"
      ],
      "metadata": {
        "colab": {
          "base_uri": "https://localhost:8080/"
        },
        "id": "mcH0XfPpyrDn",
        "outputId": "b76ec1b7-e5c2-4471-ff3c-3a6234de3607"
      },
      "execution_count": 40,
      "outputs": [
        {
          "output_type": "execute_result",
          "data": {
            "text/plain": [
              "[Row(contact=\"{'website': 'http://www.allianztravelinsurance.com', 'email': 'help.team@allianzassistance.com', 'phone': '1-866-884-3556'}\"),\n",
              " Row(contact=\"{'website': 'https://www.aardy.com/', 'email': 'Info@Aardy.com', 'phone': '6504926298'}\"),\n",
              " Row(contact=\"{'website': 'http://www.qeeq.com', 'email': 'support@qeeq.com', 'phone': None}\"),\n",
              " Row(contact=\"{'website': 'https://imglobal.com', 'email': 'ratingsandreviews@imglobal.com', 'phone': '1-317-655-4500'}\"),\n",
              " Row(contact=\"{'website': 'https://www.VisitorsCoverage.com', 'email': 'support@visitorscoverage.com', 'phone': '1.866.384.9104'}\")]"
            ]
          },
          "metadata": {},
          "execution_count": 40
        }
      ]
    },
    {
      "cell_type": "code",
      "source": [
        "# create new columns website, email, phonenumber\n",
        "contact_schema = StructType([\n",
        "                  StructField('website', StringType(), True),\n",
        "                  StructField('email', StringType(), True),\n",
        "                  StructField('phone', StringType(), True)\n",
        "                ])\n",
        "df_new = df_new.withColumn('contact', regexp_replace(col('contact'), \"None\", 'null'))\n",
        "df_new = df_new.withColumn('contact_json', from_json(col('contact'), contact_schema))\n",
        "df_new.show(5)"
      ],
      "metadata": {
        "colab": {
          "base_uri": "https://localhost:8080/"
        },
        "id": "tgKENQBU1fbQ",
        "outputId": "61bea51a-f6e8-42d0-abf1-ec9017abdba1"
      },
      "execution_count": 41,
      "outputs": [
        {
          "output_type": "stream",
          "name": "stdout",
          "text": [
            "+--------------------+---------------+------+--------------------+--------------------+--------------------+--------------------+--------------------+------------+--------+-------------+--------------------+\n",
            "|         companyname|numberOfReviews|rating|            location|             contact|          categories|       location_json|             address|        city| zipcode|      country|        contact_json|\n",
            "+--------------------+---------------+------+--------------------+--------------------+--------------------+--------------------+--------------------+------------+--------+-------------+--------------------+\n",
            "|Allianz Partners USA|          82240|   4.2|{'address': '9950...|{'website': 'http...|[{'categoryId': '...|{9950 Mayland Dri...|  9950 Mayland Drive|    Richmond|   23233|United States|{http://www.allia...|\n",
            "|               AARDY|          25453|   4.9|{'address': '1200...|{'website': 'http...|[{'categoryId': '...|{1200 South Pine ...|1200 South Pine I...|  Plantation|FL 33324|United States|{https://www.aard...|\n",
            "|            QEEQ.COM|          12298|   4.2|{'address': null,...|{'website': 'http...|[{'categoryId': '...|{NULL, NULL, NULL...|                 N/A|         N/A|     N/A|United States|{http://www.qeeq....|\n",
            "|                IMG®|          11458|   4.6|{'address': '9200...|{'website': 'http...|[{'categoryId': '...|{9200 Keystone Cr...|9200 Keystone Cro...|Indianapolis|   46240|United States|{https://imglobal...|\n",
            "|VisitorsCoverage ...|           6146|   4.7|{'address': '2350...|{'website': 'http...|[{'categoryId': '...|{2350 Mission Col...|2350 Mission Coll...| Santa Clara|   95054|United States|{https://www.Visi...|\n",
            "+--------------------+---------------+------+--------------------+--------------------+--------------------+--------------------+--------------------+------------+--------+-------------+--------------------+\n",
            "only showing top 5 rows\n",
            "\n"
          ]
        }
      ]
    },
    {
      "cell_type": "code",
      "source": [
        "df_new.select('contact_json').take(5)\n",
        "# df_new.select('contact_json').dtypes"
      ],
      "metadata": {
        "colab": {
          "base_uri": "https://localhost:8080/"
        },
        "id": "F_yng34i3A2c",
        "outputId": "2eab94c3-e1f3-48d3-ca09-550986703f49"
      },
      "execution_count": 42,
      "outputs": [
        {
          "output_type": "execute_result",
          "data": {
            "text/plain": [
              "[Row(contact_json=Row(website='http://www.allianztravelinsurance.com', email='help.team@allianzassistance.com', phone='1-866-884-3556')),\n",
              " Row(contact_json=Row(website='https://www.aardy.com/', email='Info@Aardy.com', phone='6504926298')),\n",
              " Row(contact_json=Row(website='http://www.qeeq.com', email='support@qeeq.com', phone=None)),\n",
              " Row(contact_json=Row(website='https://imglobal.com', email='ratingsandreviews@imglobal.com', phone='1-317-655-4500')),\n",
              " Row(contact_json=Row(website='https://www.VisitorsCoverage.com', email='support@visitorscoverage.com', phone='1.866.384.9104'))]"
            ]
          },
          "metadata": {},
          "execution_count": 42
        }
      ]
    },
    {
      "cell_type": "code",
      "source": [
        "df_new = df_new.withColumn('website', df_new['contact_json'].website)\\\n",
        "    .withColumn('email', df_new['contact_json'].email)\\\n",
        "    .withColumn('phonenumber', df_new['contact_json'].phone)\n",
        "df_new.show(5)"
      ],
      "metadata": {
        "colab": {
          "base_uri": "https://localhost:8080/"
        },
        "id": "_JXfVe4T1fep",
        "outputId": "d04e9c31-54a4-4046-8859-e43f46daec5d"
      },
      "execution_count": 71,
      "outputs": [
        {
          "output_type": "stream",
          "name": "stdout",
          "text": [
            "+--------------------+---------------+------+--------------------+--------------------+--------------------+--------------------+--------------------+------------+--------+-------------+--------------------+--------------------+--------------------+--------------+--------------------+-----------------+\n",
            "|         companyname|numberOfReviews|rating|            location|             contact|          categories|       location_json|             address|        city| zipcode|      country|        contact_json|             website|               email|   phonenumber|  cleaned_categories|parsed_categories|\n",
            "+--------------------+---------------+------+--------------------+--------------------+--------------------+--------------------+--------------------+------------+--------+-------------+--------------------+--------------------+--------------------+--------------+--------------------+-----------------+\n",
            "|Allianz Partners USA|          82240|   4.2|{'address': '9950...|{'website': 'http...|[{'categoryId': '...|{9950 Mayland Dri...|  9950 Mayland Drive|    Richmond|   23233|United States|{http://www.allia...|http://www.allian...|help.team@allianz...|1-866-884-3556|[{\"categoryId\": \"...|             NULL|\n",
            "|               AARDY|          25453|   4.9|{'address': '1200...|{'website': 'http...|[{'categoryId': '...|{1200 South Pine ...|1200 South Pine I...|  Plantation|FL 33324|United States|{https://www.aard...|https://www.aardy...|      Info@Aardy.com|    6504926298|[{\"categoryId\": \"...|             NULL|\n",
            "|            QEEQ.COM|          12298|   4.2|{'address': null,...|{'website': 'http...|[{'categoryId': '...|{NULL, NULL, NULL...|                 N/A|         N/A|     N/A|United States|{http://www.qeeq....| http://www.qeeq.com|    support@qeeq.com|          NULL|[{\"categoryId\": \"...|             NULL|\n",
            "|                IMG®|          11458|   4.6|{'address': '9200...|{'website': 'http...|[{'categoryId': '...|{9200 Keystone Cr...|9200 Keystone Cro...|Indianapolis|   46240|United States|{https://imglobal...|https://imglobal.com|ratingsandreviews...|1-317-655-4500|[{\"categoryId\": \"...|             NULL|\n",
            "|VisitorsCoverage ...|           6146|   4.7|{'address': '2350...|{'website': 'http...|[{'categoryId': '...|{2350 Mission Col...|2350 Mission Coll...| Santa Clara|   95054|United States|{https://www.Visi...|https://www.Visit...|support@visitorsc...|1.866.384.9104|[{\"categoryId\": \"...|             NULL|\n",
            "+--------------------+---------------+------+--------------------+--------------------+--------------------+--------------------+--------------------+------------+--------+-------------+--------------------+--------------------+--------------------+--------------+--------------------+-----------------+\n",
            "only showing top 5 rows\n",
            "\n"
          ]
        }
      ]
    },
    {
      "cell_type": "code",
      "source": [
        "df_new.select('website', 'email', 'phonenumber').show(5)"
      ],
      "metadata": {
        "colab": {
          "base_uri": "https://localhost:8080/"
        },
        "id": "VatHOgtP1fie",
        "outputId": "5f71b60a-8aa6-48c4-dc44-1d2455896d0f"
      },
      "execution_count": 25,
      "outputs": [
        {
          "output_type": "stream",
          "name": "stdout",
          "text": [
            "+--------------------+--------------------+--------------+\n",
            "|             website|               email|   phonenumber|\n",
            "+--------------------+--------------------+--------------+\n",
            "|http://www.allian...|help.team@allianz...|1-866-884-3556|\n",
            "|https://www.aardy...|      Info@Aardy.com|    6504926298|\n",
            "| http://www.qeeq.com|    support@qeeq.com|          NULL|\n",
            "|https://imglobal.com|ratingsandreviews...|1-317-655-4500|\n",
            "|https://www.Visit...|support@visitorsc...|1.866.384.9104|\n",
            "+--------------------+--------------------+--------------+\n",
            "only showing top 5 rows\n",
            "\n"
          ]
        }
      ]
    },
    {
      "cell_type": "code",
      "source": [
        "df_new = df_new.withColumn(\"email\", when(col(\"email\").isNull(), 'N/A').otherwise(col(\"email\")))\n",
        "df_new = df_new.withColumn(\"phonenumber\", when(col(\"phonenumber\").isNull(), 0).otherwise(col(\"phonenumber\")))\n",
        "df_new = df_new.withColumn(\"website\", when(col(\"website\").isNull(), 'N/A').otherwise(col(\"website\")))"
      ],
      "metadata": {
        "id": "El_5KNbW1fmV"
      },
      "execution_count": 72,
      "outputs": []
    },
    {
      "cell_type": "code",
      "source": [
        "df_new.select('website', 'email', 'phonenumber').show(5)"
      ],
      "metadata": {
        "colab": {
          "base_uri": "https://localhost:8080/"
        },
        "id": "kP9l1nLzRhyz",
        "outputId": "f8e652ed-d130-4140-a8fd-9c4abe3a4ea7"
      },
      "execution_count": 73,
      "outputs": [
        {
          "output_type": "stream",
          "name": "stdout",
          "text": [
            "+--------------------+--------------------+--------------+\n",
            "|             website|               email|   phonenumber|\n",
            "+--------------------+--------------------+--------------+\n",
            "|http://www.allian...|help.team@allianz...|1-866-884-3556|\n",
            "|https://www.aardy...|      Info@Aardy.com|    6504926298|\n",
            "| http://www.qeeq.com|    support@qeeq.com|             0|\n",
            "|https://imglobal.com|ratingsandreviews...|1-317-655-4500|\n",
            "|https://www.Visit...|support@visitorsc...|1.866.384.9104|\n",
            "+--------------------+--------------------+--------------+\n",
            "only showing top 5 rows\n",
            "\n"
          ]
        }
      ]
    },
    {
      "cell_type": "code",
      "source": [
        "# prompt: how to clean the phonenumber column\n",
        "\n",
        "import pyspark.sql.functions as F\n",
        "\n",
        "# Remove all non-numeric characters from the phone number column\n",
        "df_new = df_new.withColumn('phonenumber', F.regexp_replace('phonenumber', '[^0-9]', ''))\n",
        "\n",
        "# # Remove leading zeros from the phone number column\n",
        "df_new = df_new.withColumn('phonenumber', F.regexp_replace('phonenumber', '^1+', ''))\n",
        "\n",
        "# Format the phone number column to a standard format\n",
        "# df_new = df_new.withColumn('phonenumber', F.format_string('%s-%s-%s-',\n",
        "#                                             F.substring('phonenumber', 1, 3),\n",
        "#                                             F.substring('phonenumber', 4, 3),\n",
        "#                                             F.substring('phonenumber', 7, 4)))\n",
        "\n",
        "df_new = df_new.withColumn('phonenumber',\n",
        "                           when(F.length(col('phonenumber')) == 10, F.concat(F.lit('1'), col('phonenumber')))\n",
        "                           .otherwise(col('phonenumber')))\n",
        "\n",
        "\n",
        "# Show the cleaned phone number column\n",
        "df_new.select('phonenumber').show()\n"
      ],
      "metadata": {
        "colab": {
          "base_uri": "https://localhost:8080/"
        },
        "id": "1sCamM9Y1fpY",
        "outputId": "b6726a33-2371-4cca-be66-e3238b1f03e7"
      },
      "execution_count": 74,
      "outputs": [
        {
          "output_type": "stream",
          "name": "stdout",
          "text": [
            "+-----------+\n",
            "|phonenumber|\n",
            "+-----------+\n",
            "|18668843556|\n",
            "|16504926298|\n",
            "|          0|\n",
            "|13176554500|\n",
            "|18663849104|\n",
            "|18003350611|\n",
            "|16503976592|\n",
            "|          0|\n",
            "|18006993845|\n",
            "|18006394727|\n",
            "|          0|\n",
            "|          0|\n",
            "|13057674008|\n",
            "|18886769977|\n",
            "|          0|\n",
            "|18003449540|\n",
            "|          0|\n",
            "|18662660505|\n",
            "|          0|\n",
            "|18006052282|\n",
            "+-----------+\n",
            "only showing top 20 rows\n",
            "\n"
          ]
        }
      ]
    },
    {
      "cell_type": "code",
      "source": [
        "# schema = StructType([StructField(\"category\", ArrayType(\n",
        "#     StructType([\n",
        "#         StructField(\"categoryId\", StringType(), nullable=True),\n",
        "#         StructField(\"displayName\", StringType(), nullable=True),\n",
        "#         StructField(\"isPredicted\", BooleanType(), nullable=True)\n",
        "#     ])\n",
        "# ), True)])"
      ],
      "metadata": {
        "id": "i40XWsXm4jxP"
      },
      "execution_count": 54,
      "outputs": []
    },
    {
      "cell_type": "code",
      "source": [
        "# Define the schema for the JSON data\n",
        "schema = ArrayType(StructType([\n",
        "    StructField(\"categoryId\", StringType(), True),\n",
        "    StructField(\"displayName\", StringType(), True),\n",
        "    StructField(\"isPredicted\", BooleanType(), True)\n",
        "]))"
      ],
      "metadata": {
        "id": "HszYSdIJtO19"
      },
      "execution_count": 55,
      "outputs": []
    },
    {
      "cell_type": "code",
      "source": [
        "from pyspark.sql.functions import col, from_json, udf, regexp_replace, explode, concat_ws, collect_set\n",
        "# Define a UDF to clean the JSON strings\n",
        "@udf(returnType=StringType())\n",
        "def clean_json(json_str):\n",
        "    return json_str.replace(\"'\", \"\\\"\").replace(\"|\", \",\")\n",
        "\n",
        "# Apply the UDF to clean the JSON strings\n",
        "df_new = df_new.withColumn(\"cleaned_categories\", clean_json(col(\"categories\")))\n"
      ],
      "metadata": {
        "id": "WWnK57HktO5M"
      },
      "execution_count": 57,
      "outputs": []
    },
    {
      "cell_type": "code",
      "source": [
        "df_new.show(5)\n"
      ],
      "metadata": {
        "colab": {
          "base_uri": "https://localhost:8080/"
        },
        "id": "BqPwD3zvtO8Y",
        "outputId": "d48a6157-1112-44bb-afb7-a1fec0524cd3"
      },
      "execution_count": 58,
      "outputs": [
        {
          "output_type": "stream",
          "name": "stdout",
          "text": [
            "+--------------------+---------------+------+--------------------+--------------------+--------------------+--------------------+--------------------+------------+--------+-------------+--------------------+--------------------+--------------------+--------------+--------------------+\n",
            "|         companyname|numberOfReviews|rating|            location|             contact|          categories|       location_json|             address|        city| zipcode|      country|        contact_json|             website|               email|   phonenumber|  cleaned_categories|\n",
            "+--------------------+---------------+------+--------------------+--------------------+--------------------+--------------------+--------------------+------------+--------+-------------+--------------------+--------------------+--------------------+--------------+--------------------+\n",
            "|Allianz Partners USA|          82240|   4.2|{'address': '9950...|{'website': 'http...|[{'categoryId': '...|{9950 Mayland Dri...|  9950 Mayland Drive|    Richmond|   23233|United States|{http://www.allia...|http://www.allian...|help.team@allianz...|1-866-884-3556|[{\"categoryId\": \"...|\n",
            "|               AARDY|          25453|   4.9|{'address': '1200...|{'website': 'http...|[{'categoryId': '...|{1200 South Pine ...|1200 South Pine I...|  Plantation|FL 33324|United States|{https://www.aard...|https://www.aardy...|      Info@Aardy.com|    6504926298|[{\"categoryId\": \"...|\n",
            "|            QEEQ.COM|          12298|   4.2|{'address': null,...|{'website': 'http...|[{'categoryId': '...|{NULL, NULL, NULL...|                 N/A|         N/A|     N/A|United States|{http://www.qeeq....| http://www.qeeq.com|    support@qeeq.com|          NULL|[{\"categoryId\": \"...|\n",
            "|                IMG®|          11458|   4.6|{'address': '9200...|{'website': 'http...|[{'categoryId': '...|{9200 Keystone Cr...|9200 Keystone Cro...|Indianapolis|   46240|United States|{https://imglobal...|https://imglobal.com|ratingsandreviews...|1-317-655-4500|[{\"categoryId\": \"...|\n",
            "|VisitorsCoverage ...|           6146|   4.7|{'address': '2350...|{'website': 'http...|[{'categoryId': '...|{2350 Mission Col...|2350 Mission Coll...| Santa Clara|   95054|United States|{https://www.Visi...|https://www.Visit...|support@visitorsc...|1.866.384.9104|[{\"categoryId\": \"...|\n",
            "+--------------------+---------------+------+--------------------+--------------------+--------------------+--------------------+--------------------+------------+--------+-------------+--------------------+--------------------+--------------------+--------------+--------------------+\n",
            "only showing top 5 rows\n",
            "\n"
          ]
        }
      ]
    },
    {
      "cell_type": "code",
      "source": [
        "df_new.select(\"cleaned_categories\").show(truncate=False)"
      ],
      "metadata": {
        "colab": {
          "base_uri": "https://localhost:8080/"
        },
        "id": "9FHJ8PaMY_J3",
        "outputId": "cd507d18-7cec-4eb8-9b41-5188aafb5603"
      },
      "execution_count": 59,
      "outputs": [
        {
          "output_type": "stream",
          "name": "stdout",
          "text": [
            "+--------------------------------------------------------------------------------------------------------------------------------------------------------------------------------------------------------------------------------------------------------------------------------------------------------------------------------------------------------------------------------------------------------------------------------------------------------------------------------------------------------------------------------------------------------------------------------------------------------------------------------------+\n",
            "|cleaned_categories                                                                                                                                                                                                                                                                                                                                                                                                                                                                                                                                                                                                                    |\n",
            "+--------------------------------------------------------------------------------------------------------------------------------------------------------------------------------------------------------------------------------------------------------------------------------------------------------------------------------------------------------------------------------------------------------------------------------------------------------------------------------------------------------------------------------------------------------------------------------------------------------------------------------------+\n",
            "|[{\"categoryId\": \"financial_consultant\", \"displayName\": \"Financial Consultant\", \"isPredicted\": False}, {\"categoryId\": \"insurance_agency\", \"displayName\": \"Insurance Agency\", \"isPredicted\": False}, {\"categoryId\": \"travel_insurance_company\", \"displayName\": \"Travel Insurance Company\", \"isPredicted\": False}, {\"categoryId\": \"travel_agency\", \"displayName\": \"Travel Agency\", \"isPredicted\": False}]                                                                                                                                                                                                                                |\n",
            "|[{\"categoryId\": \"financial_consultant\", \"displayName\": \"Financial Consultant\", \"isPredicted\": False}, {\"categoryId\": \"travel_agency\", \"displayName\": \"Travel Agency\", \"isPredicted\": False}, {\"categoryId\": \"insurance_agency\", \"displayName\": \"Insurance Agency\", \"isPredicted\": False}, {\"categoryId\": \"travel_insurance_company\", \"displayName\": \"Travel Insurance Company\", \"isPredicted\": False}]                                                                                                                                                                                                                                |\n",
            "|[{\"categoryId\": \"tourist_attraction\", \"displayName\": \"Tourist Attraction\", \"isPredicted\": False}, {\"categoryId\": \"car_rental_agency\", \"displayName\": \"Car Rental Agency\", \"isPredicted\": False}, {\"categoryId\": \"travel_insurance_company\", \"displayName\": \"Travel Insurance Company\", \"isPredicted\": False}]                                                                                                                                                                                                                                                                                                                         |\n",
            "|[{\"categoryId\": \"travel_insurance_company\", \"displayName\": \"Travel Insurance Company\", \"isPredicted\": False}, {\"categoryId\": \"insurance_company\", \"displayName\": \"Insurance Company\", \"isPredicted\": False}]                                                                                                                                                                                                                                                                                                                                                                                                                          |\n",
            "|[{\"categoryId\": \"travel_agency\", \"displayName\": \"Travel Agency\", \"isPredicted\": False}, {\"categoryId\": \"travel_insurance_company\", \"displayName\": \"Travel Insurance Company\", \"isPredicted\": False}]                                                                                                                                                                                                                                                                                                                                                                                                                                  |\n",
            "|[{\"categoryId\": \"insurance_company\", \"displayName\": \"Insurance Company\", \"isPredicted\": False}, {\"categoryId\": \"travel_insurance_company\", \"displayName\": \"Travel Insurance Company\", \"isPredicted\": False}, {\"categoryId\": \"insurance_agency\", \"displayName\": \"Insurance Agency\", \"isPredicted\": False}]                                                                                                                                                                                                                                                                                                                             |\n",
            "|[{\"categoryId\": \"travel_insurance_company\", \"displayName\": \"Travel Insurance Company\", \"isPredicted\": False}, {\"categoryId\": \"insurance_agency\", \"displayName\": \"Insurance Agency\", \"isPredicted\": False}, {\"categoryId\": \"travel_agency\", \"displayName\": \"Travel Agency\", \"isPredicted\": False}, {\"categoryId\": \"financial_consultant\", \"displayName\": \"Financial Consultant\", \"isPredicted\": False}]                                                                                                                                                                                                                                |\n",
            "|[{\"categoryId\": \"insurance_broker\", \"displayName\": \"Insurance Broker\", \"isPredicted\": False}, {\"categoryId\": \"insurance_agency\", \"displayName\": \"Insurance Agency\", \"isPredicted\": False}, {\"categoryId\": \"travel_insurance_company\", \"displayName\": \"Travel Insurance Company\", \"isPredicted\": False}, {\"categoryId\": \"insurance_company\", \"displayName\": \"Insurance Company\", \"isPredicted\": False}]                                                                                                                                                                                                                                |\n",
            "|[{\"categoryId\": \"travel_insurance_company\", \"displayName\": \"Travel Insurance Company\", \"isPredicted\": False}, {\"categoryId\": \"travel_agency\", \"displayName\": \"Travel Agency\", \"isPredicted\": False}]                                                                                                                                                                                                                                                                                                                                                                                                                                  |\n",
            "|[{\"categoryId\": \"insurance_broker\", \"displayName\": \"Insurance Broker\", \"isPredicted\": False}, {\"categoryId\": \"insurance_agency\", \"displayName\": \"Insurance Agency\", \"isPredicted\": False}, {\"categoryId\": \"travel_insurance_company\", \"displayName\": \"Travel Insurance Company\", \"isPredicted\": False}, {\"categoryId\": \"travel_agency\", \"displayName\": \"Travel Agency\", \"isPredicted\": False}]                                                                                                                                                                                                                                        |\n",
            "|[{\"categoryId\": \"insurance_agency\", \"displayName\": \"Insurance Agency\", \"isPredicted\": False}, {\"categoryId\": \"insurance_company\", \"displayName\": \"Insurance Company\", \"isPredicted\": False}, {\"categoryId\": \"travel_insurance_company\", \"displayName\": \"Travel Insurance Company\", \"isPredicted\": False}]                                                                                                                                                                                                                                                                                                                             |\n",
            "|[{\"categoryId\": \"insurance_agency\", \"displayName\": \"Insurance Agency\", \"isPredicted\": False}, {\"categoryId\": \"travel_agency\", \"displayName\": \"Travel Agency\", \"isPredicted\": False}, {\"categoryId\": \"travel_insurance_company\", \"displayName\": \"Travel Insurance Company\", \"isPredicted\": False}, {\"categoryId\": \"financial_consultant\", \"displayName\": \"Financial Consultant\", \"isPredicted\": False}]                                                                                                                                                                                                                                |\n",
            "|[{\"categoryId\": \"travel_agency\", \"displayName\": \"Travel Agency\", \"isPredicted\": False}, {\"categoryId\": \"travel_insurance_company\", \"displayName\": \"Travel Insurance Company\", \"isPredicted\": False}]                                                                                                                                                                                                                                                                                                                                                                                                                                  |\n",
            "|[{\"categoryId\": \"ski_holiday_organizer\", \"displayName\": \"Ski Holidays\", \"isPredicted\": False}, {\"categoryId\": \"vacation_rental\", \"displayName\": \"Vacation Rental\", \"isPredicted\": False}, {\"categoryId\": \"hotel\", \"displayName\": \"Hotel\", \"isPredicted\": False}, {\"categoryId\": \"travel_insurance_company\", \"displayName\": \"Travel Insurance Company\", \"isPredicted\": False}, {\"categoryId\": \"travel_agency\", \"displayName\": \"Travel Agency\", \"isPredicted\": False}, {\"categoryId\": \"tour_operator\", \"displayName\": \"Tour Operator\", \"isPredicted\": False}, {\"categoryId\": \"cottage\", \"displayName\": \"Cottage\", \"isPredicted\": False}]|\n",
            "|[{\"categoryId\": \"travel_insurance_company\", \"displayName\": \"Travel Insurance Company\", \"isPredicted\": False}, {\"categoryId\": \"software_company\", \"displayName\": \"Software Company\", \"isPredicted\": False}, {\"categoryId\": \"event_technology_service\", \"displayName\": \"Event Technology Service\", \"isPredicted\": False}]                                                                                                                                                                                                                                                                                                               |\n",
            "|[{\"categoryId\": \"life_insurance_agency\", \"displayName\": \"Life Insurance Agency\", \"isPredicted\": False}, {\"categoryId\": \"travel_agency\", \"displayName\": \"Travel Agency\", \"isPredicted\": False}, {\"categoryId\": \"insurance_agency\", \"displayName\": \"Insurance Agency\", \"isPredicted\": False}, {\"categoryId\": \"insurance_broker\", \"displayName\": \"Insurance Broker\", \"isPredicted\": False}, {\"categoryId\": \"health_insurance_agency\", \"displayName\": \"Health Insurance Agency\", \"isPredicted\": False}, {\"categoryId\": \"travel_insurance_company\", \"displayName\": \"Travel Insurance Company\", \"isPredicted\": False}]                      |\n",
            "|[{\"categoryId\": \"insurance_company\", \"displayName\": \"Insurance Company\", \"isPredicted\": False}, {\"categoryId\": \"travel_insurance_company\", \"displayName\": \"Travel Insurance Company\", \"isPredicted\": False}]                                                                                                                                                                                                                                                                                                                                                                                                                          |\n",
            "|[{\"categoryId\": \"travel_agency\", \"displayName\": \"Travel Agency\", \"isPredicted\": False}, {\"categoryId\": \"van_rental_agency\", \"displayName\": \"Van Rental Agency\", \"isPredicted\": False}, {\"categoryId\": \"car_sharing_location\", \"displayName\": \"Car Sharing Location\", \"isPredicted\": False}, {\"categoryId\": \"travel_insurance_company\", \"displayName\": \"Travel Insurance Company\", \"isPredicted\": False}, {\"categoryId\": \"liability_insurance_company\", \"displayName\": \"Liability Insurance Company\", \"isPredicted\": False}, {\"categoryId\": \"car_rental_agency\", \"displayName\": \"Car Rental Agency\", \"isPredicted\": False}]            |\n",
            "|[{\"categoryId\": \"travel_insurance_company\", \"displayName\": \"Travel Insurance Company\", \"isPredicted\": False}, {\"categoryId\": \"insurance_company\", \"displayName\": \"Insurance Company\", \"isPredicted\": False}, {\"categoryId\": \"insurance_agency\", \"displayName\": \"Insurance Agency\", \"isPredicted\": False}]                                                                                                                                                                                                                                                                                                                             |\n",
            "|[{\"categoryId\": \"travel_insurance_company\", \"displayName\": \"Travel Insurance Company\", \"isPredicted\": False}]                                                                                                                                                                                                                                                                                                                                                                                                                                                                                                                         |\n",
            "+--------------------------------------------------------------------------------------------------------------------------------------------------------------------------------------------------------------------------------------------------------------------------------------------------------------------------------------------------------------------------------------------------------------------------------------------------------------------------------------------------------------------------------------------------------------------------------------------------------------------------------------+\n",
            "only showing top 20 rows\n",
            "\n"
          ]
        }
      ]
    },
    {
      "cell_type": "code",
      "source": [
        "cleaned_json_strings = df_new.select(\"cleaned_categories\").rdd.map(lambda row: row[0]).collect()\n",
        "for json_str in cleaned_json_strings:\n",
        "    print(json_str)"
      ],
      "metadata": {
        "colab": {
          "base_uri": "https://localhost:8080/"
        },
        "id": "zEqTJnuyY_OG",
        "outputId": "3253b10c-bc92-4299-f02e-5a08aabd16c6"
      },
      "execution_count": 60,
      "outputs": [
        {
          "output_type": "stream",
          "name": "stdout",
          "text": [
            "[{\"categoryId\": \"financial_consultant\", \"displayName\": \"Financial Consultant\", \"isPredicted\": False}, {\"categoryId\": \"insurance_agency\", \"displayName\": \"Insurance Agency\", \"isPredicted\": False}, {\"categoryId\": \"travel_insurance_company\", \"displayName\": \"Travel Insurance Company\", \"isPredicted\": False}, {\"categoryId\": \"travel_agency\", \"displayName\": \"Travel Agency\", \"isPredicted\": False}]\n",
            "[{\"categoryId\": \"financial_consultant\", \"displayName\": \"Financial Consultant\", \"isPredicted\": False}, {\"categoryId\": \"travel_agency\", \"displayName\": \"Travel Agency\", \"isPredicted\": False}, {\"categoryId\": \"insurance_agency\", \"displayName\": \"Insurance Agency\", \"isPredicted\": False}, {\"categoryId\": \"travel_insurance_company\", \"displayName\": \"Travel Insurance Company\", \"isPredicted\": False}]\n",
            "[{\"categoryId\": \"tourist_attraction\", \"displayName\": \"Tourist Attraction\", \"isPredicted\": False}, {\"categoryId\": \"car_rental_agency\", \"displayName\": \"Car Rental Agency\", \"isPredicted\": False}, {\"categoryId\": \"travel_insurance_company\", \"displayName\": \"Travel Insurance Company\", \"isPredicted\": False}]\n",
            "[{\"categoryId\": \"travel_insurance_company\", \"displayName\": \"Travel Insurance Company\", \"isPredicted\": False}, {\"categoryId\": \"insurance_company\", \"displayName\": \"Insurance Company\", \"isPredicted\": False}]\n",
            "[{\"categoryId\": \"travel_agency\", \"displayName\": \"Travel Agency\", \"isPredicted\": False}, {\"categoryId\": \"travel_insurance_company\", \"displayName\": \"Travel Insurance Company\", \"isPredicted\": False}]\n",
            "[{\"categoryId\": \"insurance_company\", \"displayName\": \"Insurance Company\", \"isPredicted\": False}, {\"categoryId\": \"travel_insurance_company\", \"displayName\": \"Travel Insurance Company\", \"isPredicted\": False}, {\"categoryId\": \"insurance_agency\", \"displayName\": \"Insurance Agency\", \"isPredicted\": False}]\n",
            "[{\"categoryId\": \"travel_insurance_company\", \"displayName\": \"Travel Insurance Company\", \"isPredicted\": False}, {\"categoryId\": \"insurance_agency\", \"displayName\": \"Insurance Agency\", \"isPredicted\": False}, {\"categoryId\": \"travel_agency\", \"displayName\": \"Travel Agency\", \"isPredicted\": False}, {\"categoryId\": \"financial_consultant\", \"displayName\": \"Financial Consultant\", \"isPredicted\": False}]\n",
            "[{\"categoryId\": \"insurance_broker\", \"displayName\": \"Insurance Broker\", \"isPredicted\": False}, {\"categoryId\": \"insurance_agency\", \"displayName\": \"Insurance Agency\", \"isPredicted\": False}, {\"categoryId\": \"travel_insurance_company\", \"displayName\": \"Travel Insurance Company\", \"isPredicted\": False}, {\"categoryId\": \"insurance_company\", \"displayName\": \"Insurance Company\", \"isPredicted\": False}]\n",
            "[{\"categoryId\": \"travel_insurance_company\", \"displayName\": \"Travel Insurance Company\", \"isPredicted\": False}, {\"categoryId\": \"travel_agency\", \"displayName\": \"Travel Agency\", \"isPredicted\": False}]\n",
            "[{\"categoryId\": \"insurance_broker\", \"displayName\": \"Insurance Broker\", \"isPredicted\": False}, {\"categoryId\": \"insurance_agency\", \"displayName\": \"Insurance Agency\", \"isPredicted\": False}, {\"categoryId\": \"travel_insurance_company\", \"displayName\": \"Travel Insurance Company\", \"isPredicted\": False}, {\"categoryId\": \"travel_agency\", \"displayName\": \"Travel Agency\", \"isPredicted\": False}]\n",
            "[{\"categoryId\": \"insurance_agency\", \"displayName\": \"Insurance Agency\", \"isPredicted\": False}, {\"categoryId\": \"insurance_company\", \"displayName\": \"Insurance Company\", \"isPredicted\": False}, {\"categoryId\": \"travel_insurance_company\", \"displayName\": \"Travel Insurance Company\", \"isPredicted\": False}]\n",
            "[{\"categoryId\": \"insurance_agency\", \"displayName\": \"Insurance Agency\", \"isPredicted\": False}, {\"categoryId\": \"travel_agency\", \"displayName\": \"Travel Agency\", \"isPredicted\": False}, {\"categoryId\": \"travel_insurance_company\", \"displayName\": \"Travel Insurance Company\", \"isPredicted\": False}, {\"categoryId\": \"financial_consultant\", \"displayName\": \"Financial Consultant\", \"isPredicted\": False}]\n",
            "[{\"categoryId\": \"travel_agency\", \"displayName\": \"Travel Agency\", \"isPredicted\": False}, {\"categoryId\": \"travel_insurance_company\", \"displayName\": \"Travel Insurance Company\", \"isPredicted\": False}]\n",
            "[{\"categoryId\": \"ski_holiday_organizer\", \"displayName\": \"Ski Holidays\", \"isPredicted\": False}, {\"categoryId\": \"vacation_rental\", \"displayName\": \"Vacation Rental\", \"isPredicted\": False}, {\"categoryId\": \"hotel\", \"displayName\": \"Hotel\", \"isPredicted\": False}, {\"categoryId\": \"travel_insurance_company\", \"displayName\": \"Travel Insurance Company\", \"isPredicted\": False}, {\"categoryId\": \"travel_agency\", \"displayName\": \"Travel Agency\", \"isPredicted\": False}, {\"categoryId\": \"tour_operator\", \"displayName\": \"Tour Operator\", \"isPredicted\": False}, {\"categoryId\": \"cottage\", \"displayName\": \"Cottage\", \"isPredicted\": False}]\n",
            "[{\"categoryId\": \"travel_insurance_company\", \"displayName\": \"Travel Insurance Company\", \"isPredicted\": False}, {\"categoryId\": \"software_company\", \"displayName\": \"Software Company\", \"isPredicted\": False}, {\"categoryId\": \"event_technology_service\", \"displayName\": \"Event Technology Service\", \"isPredicted\": False}]\n",
            "[{\"categoryId\": \"life_insurance_agency\", \"displayName\": \"Life Insurance Agency\", \"isPredicted\": False}, {\"categoryId\": \"travel_agency\", \"displayName\": \"Travel Agency\", \"isPredicted\": False}, {\"categoryId\": \"insurance_agency\", \"displayName\": \"Insurance Agency\", \"isPredicted\": False}, {\"categoryId\": \"insurance_broker\", \"displayName\": \"Insurance Broker\", \"isPredicted\": False}, {\"categoryId\": \"health_insurance_agency\", \"displayName\": \"Health Insurance Agency\", \"isPredicted\": False}, {\"categoryId\": \"travel_insurance_company\", \"displayName\": \"Travel Insurance Company\", \"isPredicted\": False}]\n",
            "[{\"categoryId\": \"insurance_company\", \"displayName\": \"Insurance Company\", \"isPredicted\": False}, {\"categoryId\": \"travel_insurance_company\", \"displayName\": \"Travel Insurance Company\", \"isPredicted\": False}]\n",
            "[{\"categoryId\": \"travel_agency\", \"displayName\": \"Travel Agency\", \"isPredicted\": False}, {\"categoryId\": \"van_rental_agency\", \"displayName\": \"Van Rental Agency\", \"isPredicted\": False}, {\"categoryId\": \"car_sharing_location\", \"displayName\": \"Car Sharing Location\", \"isPredicted\": False}, {\"categoryId\": \"travel_insurance_company\", \"displayName\": \"Travel Insurance Company\", \"isPredicted\": False}, {\"categoryId\": \"liability_insurance_company\", \"displayName\": \"Liability Insurance Company\", \"isPredicted\": False}, {\"categoryId\": \"car_rental_agency\", \"displayName\": \"Car Rental Agency\", \"isPredicted\": False}]\n",
            "[{\"categoryId\": \"travel_insurance_company\", \"displayName\": \"Travel Insurance Company\", \"isPredicted\": False}, {\"categoryId\": \"insurance_company\", \"displayName\": \"Insurance Company\", \"isPredicted\": False}, {\"categoryId\": \"insurance_agency\", \"displayName\": \"Insurance Agency\", \"isPredicted\": False}]\n",
            "[{\"categoryId\": \"travel_insurance_company\", \"displayName\": \"Travel Insurance Company\", \"isPredicted\": False}]\n",
            "[{\"categoryId\": \"travel_insurance_company\", \"displayName\": \"Travel Insurance Company\", \"isPredicted\": False}]\n",
            "[{\"categoryId\": \"travel_insurance_company\", \"displayName\": \"Travel Insurance Company\", \"isPredicted\": False}, {\"categoryId\": \"travel_agency\", \"displayName\": \"Travel Agency\", \"isPredicted\": False}]\n",
            "[{\"categoryId\": \"insurance_agency\", \"displayName\": \"Insurance Agency\", \"isPredicted\": False}, {\"categoryId\": \"travel_insurance_company\", \"displayName\": \"Travel Insurance Company\", \"isPredicted\": False}]\n",
            "[{\"categoryId\": \"travel_insurance_company\", \"displayName\": \"Travel Insurance Company\", \"isPredicted\": False}]\n",
            "[{\"categoryId\": \"travel_agency\", \"displayName\": \"Travel Agency\", \"isPredicted\": False}, {\"categoryId\": \"insurance_agency\", \"displayName\": \"Insurance Agency\", \"isPredicted\": False}, {\"categoryId\": \"financial_consultant\", \"displayName\": \"Financial Consultant\", \"isPredicted\": False}, {\"categoryId\": \"travel_insurance_company\", \"displayName\": \"Travel Insurance Company\", \"isPredicted\": False}]\n",
            "[{\"categoryId\": \"travel_insurance_company\", \"displayName\": \"Travel Insurance Company\", \"isPredicted\": False}]\n",
            "[{\"categoryId\": \"travel_insurance_company\", \"displayName\": \"Travel Insurance Company\", \"isPredicted\": False}, {\"categoryId\": \"insurance_broker\", \"displayName\": \"Insurance Broker\", \"isPredicted\": False}, {\"categoryId\": \"insurance_agency\", \"displayName\": \"Insurance Agency\", \"isPredicted\": False}]\n",
            "[{\"categoryId\": \"travel_insurance_company\", \"displayName\": \"Travel Insurance Company\", \"isPredicted\": False}]\n",
            "[{\"categoryId\": \"travel_insurance_company\", \"displayName\": \"Travel Insurance Company\", \"isPredicted\": False}]\n",
            "[{\"categoryId\": \"travel_insurance_company\", \"displayName\": \"Travel Insurance Company\", \"isPredicted\": False}]\n",
            "[{\"categoryId\": \"travel_insurance_company\", \"displayName\": \"Travel Insurance Company\", \"isPredicted\": False}]\n",
            "[{\"categoryId\": \"travel_insurance_company\", \"displayName\": \"Travel Insurance Company\", \"isPredicted\": False}, {\"categoryId\": \"insurance_agency\", \"displayName\": \"Insurance Agency\", \"isPredicted\": False}, {\"categoryId\": \"financial_consultant\", \"displayName\": \"Financial Consultant\", \"isPredicted\": False}, {\"categoryId\": \"student_insurance_company\", \"displayName\": \"Student Insurance Company\", \"isPredicted\": False}, {\"categoryId\": \"insurance_company\", \"displayName\": \"Insurance Company\", \"isPredicted\": False}]\n",
            "[{\"categoryId\": \"car_rental_agency\", \"displayName\": \"Car Rental Agency\", \"isPredicted\": False}, {\"categoryId\": \"car_accessories_store\", \"displayName\": \"Car Accessories Store\", \"isPredicted\": False}, {\"categoryId\": \"travel_insurance_company\", \"displayName\": \"Travel Insurance Company\", \"isPredicted\": False}, {\"categoryId\": \"travel_agency\", \"displayName\": \"Travel Agency\", \"isPredicted\": False}]\n",
            "[{\"categoryId\": \"travel_aggregator\", \"displayName\": \"Travel Aggregator\", \"isPredicted\": False}, {\"categoryId\": \"airline_ticket_agency\", \"displayName\": \"Airline Ticket Agency\", \"isPredicted\": False}, {\"categoryId\": \"travel_agency\", \"displayName\": \"Travel Agency\", \"isPredicted\": False}, {\"categoryId\": \"flights_search_site\", \"displayName\": \"Flights Search Site\", \"isPredicted\": False}, {\"categoryId\": \"travel_insurance_company\", \"displayName\": \"Travel Insurance Company\", \"isPredicted\": False}]\n",
            "[{\"categoryId\": \"travel_insurance_company\", \"displayName\": \"Travel Insurance Company\", \"isPredicted\": False}, {\"categoryId\": \"insurance_broker\", \"displayName\": \"Insurance Broker\", \"isPredicted\": False}]\n",
            "[{\"categoryId\": \"travel_insurance_company\", \"displayName\": \"Travel Insurance Company\", \"isPredicted\": False}]\n",
            "[{\"categoryId\": \"travel_insurance_company\", \"displayName\": \"Travel Insurance Company\", \"isPredicted\": False}]\n",
            "[{\"categoryId\": \"travel_insurance_company\", \"displayName\": \"Travel Insurance Company\", \"isPredicted\": False}]\n",
            "[{\"categoryId\": \"airline_ticket_agency\", \"displayName\": \"Airline Ticket Agency\", \"isPredicted\": False}, {\"categoryId\": \"travel_insurance_company\", \"displayName\": \"Travel Insurance Company\", \"isPredicted\": False}, {\"categoryId\": \"travel_aggregator\", \"displayName\": \"Travel Aggregator\", \"isPredicted\": False}, {\"categoryId\": \"travel_agency\", \"displayName\": \"Travel Agency\", \"isPredicted\": False}]\n",
            "[{\"categoryId\": \"travel_agency\", \"displayName\": \"Travel Agency\", \"isPredicted\": False}, {\"categoryId\": \"travel_insurance_company\", \"displayName\": \"Travel Insurance Company\", \"isPredicted\": False}]\n",
            "[{\"categoryId\": \"travel_agency\", \"displayName\": \"Travel Agency\", \"isPredicted\": False}, {\"categoryId\": \"travellers_lodge\", \"displayName\": \"Travellers Lodge\", \"isPredicted\": False}, {\"categoryId\": \"cruise_travel_agency\", \"displayName\": \"Cruise Travel Agency\", \"isPredicted\": False}, {\"categoryId\": \"tour_operator\", \"displayName\": \"Tour Operator\", \"isPredicted\": False}, {\"categoryId\": \"travel_insurance_company\", \"displayName\": \"Travel Insurance Company\", \"isPredicted\": False}, {\"categoryId\": \"travel_aggregator\", \"displayName\": \"Travel Aggregator\", \"isPredicted\": False}]\n",
            "[{\"categoryId\": \"travel_insurance_company\", \"displayName\": \"Travel Insurance Company\", \"isPredicted\": False}]\n",
            "[{\"categoryId\": \"travel_insurance_company\", \"displayName\": \"Travel Insurance Company\", \"isPredicted\": False}]\n",
            "[{\"categoryId\": \"travel_agency\", \"displayName\": \"Travel Agency\", \"isPredicted\": False}, {\"categoryId\": \"flights_search_site\", \"displayName\": \"Flights Search Site\", \"isPredicted\": False}, {\"categoryId\": \"travel_insurance_company\", \"displayName\": \"Travel Insurance Company\", \"isPredicted\": False}, {\"categoryId\": \"hotel\", \"displayName\": \"Hotel\", \"isPredicted\": False}]\n",
            "[{\"categoryId\": \"travel_agency\", \"displayName\": \"Travel Agency\", \"isPredicted\": False}, {\"categoryId\": \"sightseeing_tour_agency\", \"displayName\": \"Sightseeing Tour Agency\", \"isPredicted\": False}, {\"categoryId\": \"cruise_travel_agency\", \"displayName\": \"Cruise Travel Agency\", \"isPredicted\": False}, {\"categoryId\": \"travel_insurance_company\", \"displayName\": \"Travel Insurance Company\", \"isPredicted\": False}]\n",
            "[{\"categoryId\": \"travel_insurance_company\", \"displayName\": \"Travel Insurance Company\", \"isPredicted\": False}]\n",
            "[{\"categoryId\": \"cruise_travel_agency\", \"displayName\": \"Cruise Travel Agency\", \"isPredicted\": False}, {\"categoryId\": \"travel_insurance_company\", \"displayName\": \"Travel Insurance Company\", \"isPredicted\": False}, {\"categoryId\": \"travellers_lodge\", \"displayName\": \"Travellers Lodge\", \"isPredicted\": False}, {\"categoryId\": \"travel_agency\", \"displayName\": \"Travel Agency\", \"isPredicted\": False}]\n",
            "[{\"categoryId\": \"travel_insurance_company\", \"displayName\": \"Travel Insurance Company\", \"isPredicted\": False}]\n",
            "[{\"categoryId\": \"helicopter_tour_agency\", \"displayName\": \"Helicopter Tour Agency\", \"isPredicted\": False}, {\"categoryId\": \"tourist_attraction\", \"displayName\": \"Tourist Attraction\", \"isPredicted\": False}, {\"categoryId\": \"travel_insurance_company\", \"displayName\": \"Travel Insurance Company\", \"isPredicted\": False}, {\"categoryId\": \"travel_agency\", \"displayName\": \"Travel Agency\", \"isPredicted\": False}, {\"categoryId\": \"tour_operator\", \"displayName\": \"Tour Operator\", \"isPredicted\": False}, {\"categoryId\": \"tour_agency\", \"displayName\": \"Tour Agency\", \"isPredicted\": False}]\n",
            "[{\"categoryId\": \"insurance_agency\", \"displayName\": \"Insurance Agency\", \"isPredicted\": False}, {\"categoryId\": \"auto_insurance_agency\", \"displayName\": \"Auto Insurance Agency\", \"isPredicted\": False}, {\"categoryId\": \"life_insurance_agency\", \"displayName\": \"Life Insurance Agency\", \"isPredicted\": False}, {\"categoryId\": \"home_insurance_agency\", \"displayName\": \"Home Insurance Agency\", \"isPredicted\": False}, {\"categoryId\": \"travel_insurance_company\", \"displayName\": \"Travel Insurance Company\", \"isPredicted\": False}, {\"categoryId\": \"business_insurance_company\", \"displayName\": \"Business Insurance Company\", \"isPredicted\": False}]\n",
            "[{\"categoryId\": \"travel_insurance_company\", \"displayName\": \"Travel Insurance Company\", \"isPredicted\": False}]\n",
            "[{\"categoryId\": \"airport\", \"displayName\": \"Airport\", \"isPredicted\": False}, {\"categoryId\": \"travel_insurance_company\", \"displayName\": \"Travel Insurance Company\", \"isPredicted\": False}, {\"categoryId\": \"international_airport\", \"displayName\": \"International Airport\", \"isPredicted\": False}, {\"categoryId\": \"travel_lounge\", \"displayName\": \"Travel lounge\", \"isPredicted\": False}, {\"categoryId\": \"travel_agency\", \"displayName\": \"Travel Agency\", \"isPredicted\": False}, {\"categoryId\": \"domestic_airport\", \"displayName\": \"Domestic Airport\", \"isPredicted\": False}]\n",
            "[{\"categoryId\": \"life_insurance_agency\", \"displayName\": \"Life Insurance Agency\", \"isPredicted\": False}, {\"categoryId\": \"insurance_agency\", \"displayName\": \"Insurance Agency\", \"isPredicted\": False}, {\"categoryId\": \"travel_insurance_company\", \"displayName\": \"Travel Insurance Company\", \"isPredicted\": False}, {\"categoryId\": \"health_insurance_agency\", \"displayName\": \"Health Insurance Agency\", \"isPredicted\": False}, {\"categoryId\": \"dental_insurance_agency\", \"displayName\": \"Dental Insurance Agency\", \"isPredicted\": False}]\n",
            "[{\"categoryId\": \"travel_insurance_company\", \"displayName\": \"Travel Insurance Company\", \"isPredicted\": False}]\n",
            "[{\"categoryId\": \"travel_insurance_company\", \"displayName\": \"Travel Insurance Company\", \"isPredicted\": False}]\n",
            "[{\"categoryId\": \"travel_insurance_company\", \"displayName\": \"Travel Insurance Company\", \"isPredicted\": False}]\n",
            "[{\"categoryId\": \"travel_insurance_company\", \"displayName\": \"Travel Insurance Company\", \"isPredicted\": False}]\n",
            "[{\"categoryId\": \"resort_hotel\", \"displayName\": \"Resort\", \"isPredicted\": False}, {\"categoryId\": \"luxury_hotel\", \"displayName\": \"Luxury Hotel\", \"isPredicted\": False}, {\"categoryId\": \"travel_insurance_company\", \"displayName\": \"Travel Insurance Company\", \"isPredicted\": False}, {\"categoryId\": \"travel_agency\", \"displayName\": \"Travel Agency\", \"isPredicted\": False}, {\"categoryId\": \"cruise_travel_agency\", \"displayName\": \"Cruise Travel Agency\", \"isPredicted\": False}, {\"categoryId\": \"boutique_hotel\", \"displayName\": \"Boutique Hotel\", \"isPredicted\": False}]\n",
            "[{\"categoryId\": \"travel_agency\", \"displayName\": \"Travel Agency\", \"isPredicted\": False}, {\"categoryId\": \"travel_insurance_company\", \"displayName\": \"Travel Insurance Company\", \"isPredicted\": False}, {\"categoryId\": \"cruise_travel_agency\", \"displayName\": \"Cruise Travel Agency\", \"isPredicted\": False}]\n",
            "[{\"categoryId\": \"travel_clinic\", \"displayName\": \"Travel Clinic\", \"isPredicted\": False}, {\"categoryId\": \"timeshare_agency\", \"displayName\": \"Timeshare Agency\", \"isPredicted\": False}, {\"categoryId\": \"travel_insurance_company\", \"displayName\": \"Travel Insurance Company\", \"isPredicted\": False}, {\"categoryId\": \"travellers_lodge\", \"displayName\": \"Travellers Lodge\", \"isPredicted\": False}, {\"categoryId\": \"travel_agency\", \"displayName\": \"Travel Agency\", \"isPredicted\": False}, {\"categoryId\": \"cruise_travel_agency\", \"displayName\": \"Cruise Travel Agency\", \"isPredicted\": False}]\n"
          ]
        }
      ]
    },
    {
      "cell_type": "code",
      "source": [
        "# Parse the cleaned JSON data\n",
        "df_new = df_new.withColumn(\"parsed_categories\", from_json(col(\"cleaned_categories\"), schema))\n",
        "\n",
        "# Show the parsed data to inspect if parsing worked correctly\n",
        "df_new.select(\"cleaned_categories\", \"parsed_categories\").show(truncate=False)"
      ],
      "metadata": {
        "colab": {
          "base_uri": "https://localhost:8080/"
        },
        "id": "8_r2reqptO_Q",
        "outputId": "3f45fd57-8758-4bac-c0ed-8c1826ab4d9b"
      },
      "execution_count": 61,
      "outputs": [
        {
          "output_type": "stream",
          "name": "stdout",
          "text": [
            "+--------------------------------------------------------------------------------------------------------------------------------------------------------------------------------------------------------------------------------------------------------------------------------------------------------------------------------------------------------------------------------------------------------------------------------------------------------------------------------------------------------------------------------------------------------------------------------------------------------------------------------------+-----------------+\n",
            "|cleaned_categories                                                                                                                                                                                                                                                                                                                                                                                                                                                                                                                                                                                                                    |parsed_categories|\n",
            "+--------------------------------------------------------------------------------------------------------------------------------------------------------------------------------------------------------------------------------------------------------------------------------------------------------------------------------------------------------------------------------------------------------------------------------------------------------------------------------------------------------------------------------------------------------------------------------------------------------------------------------------+-----------------+\n",
            "|[{\"categoryId\": \"financial_consultant\", \"displayName\": \"Financial Consultant\", \"isPredicted\": False}, {\"categoryId\": \"insurance_agency\", \"displayName\": \"Insurance Agency\", \"isPredicted\": False}, {\"categoryId\": \"travel_insurance_company\", \"displayName\": \"Travel Insurance Company\", \"isPredicted\": False}, {\"categoryId\": \"travel_agency\", \"displayName\": \"Travel Agency\", \"isPredicted\": False}]                                                                                                                                                                                                                                |NULL             |\n",
            "|[{\"categoryId\": \"financial_consultant\", \"displayName\": \"Financial Consultant\", \"isPredicted\": False}, {\"categoryId\": \"travel_agency\", \"displayName\": \"Travel Agency\", \"isPredicted\": False}, {\"categoryId\": \"insurance_agency\", \"displayName\": \"Insurance Agency\", \"isPredicted\": False}, {\"categoryId\": \"travel_insurance_company\", \"displayName\": \"Travel Insurance Company\", \"isPredicted\": False}]                                                                                                                                                                                                                                |NULL             |\n",
            "|[{\"categoryId\": \"tourist_attraction\", \"displayName\": \"Tourist Attraction\", \"isPredicted\": False}, {\"categoryId\": \"car_rental_agency\", \"displayName\": \"Car Rental Agency\", \"isPredicted\": False}, {\"categoryId\": \"travel_insurance_company\", \"displayName\": \"Travel Insurance Company\", \"isPredicted\": False}]                                                                                                                                                                                                                                                                                                                         |NULL             |\n",
            "|[{\"categoryId\": \"travel_insurance_company\", \"displayName\": \"Travel Insurance Company\", \"isPredicted\": False}, {\"categoryId\": \"insurance_company\", \"displayName\": \"Insurance Company\", \"isPredicted\": False}]                                                                                                                                                                                                                                                                                                                                                                                                                          |NULL             |\n",
            "|[{\"categoryId\": \"travel_agency\", \"displayName\": \"Travel Agency\", \"isPredicted\": False}, {\"categoryId\": \"travel_insurance_company\", \"displayName\": \"Travel Insurance Company\", \"isPredicted\": False}]                                                                                                                                                                                                                                                                                                                                                                                                                                  |NULL             |\n",
            "|[{\"categoryId\": \"insurance_company\", \"displayName\": \"Insurance Company\", \"isPredicted\": False}, {\"categoryId\": \"travel_insurance_company\", \"displayName\": \"Travel Insurance Company\", \"isPredicted\": False}, {\"categoryId\": \"insurance_agency\", \"displayName\": \"Insurance Agency\", \"isPredicted\": False}]                                                                                                                                                                                                                                                                                                                             |NULL             |\n",
            "|[{\"categoryId\": \"travel_insurance_company\", \"displayName\": \"Travel Insurance Company\", \"isPredicted\": False}, {\"categoryId\": \"insurance_agency\", \"displayName\": \"Insurance Agency\", \"isPredicted\": False}, {\"categoryId\": \"travel_agency\", \"displayName\": \"Travel Agency\", \"isPredicted\": False}, {\"categoryId\": \"financial_consultant\", \"displayName\": \"Financial Consultant\", \"isPredicted\": False}]                                                                                                                                                                                                                                |NULL             |\n",
            "|[{\"categoryId\": \"insurance_broker\", \"displayName\": \"Insurance Broker\", \"isPredicted\": False}, {\"categoryId\": \"insurance_agency\", \"displayName\": \"Insurance Agency\", \"isPredicted\": False}, {\"categoryId\": \"travel_insurance_company\", \"displayName\": \"Travel Insurance Company\", \"isPredicted\": False}, {\"categoryId\": \"insurance_company\", \"displayName\": \"Insurance Company\", \"isPredicted\": False}]                                                                                                                                                                                                                                |NULL             |\n",
            "|[{\"categoryId\": \"travel_insurance_company\", \"displayName\": \"Travel Insurance Company\", \"isPredicted\": False}, {\"categoryId\": \"travel_agency\", \"displayName\": \"Travel Agency\", \"isPredicted\": False}]                                                                                                                                                                                                                                                                                                                                                                                                                                  |NULL             |\n",
            "|[{\"categoryId\": \"insurance_broker\", \"displayName\": \"Insurance Broker\", \"isPredicted\": False}, {\"categoryId\": \"insurance_agency\", \"displayName\": \"Insurance Agency\", \"isPredicted\": False}, {\"categoryId\": \"travel_insurance_company\", \"displayName\": \"Travel Insurance Company\", \"isPredicted\": False}, {\"categoryId\": \"travel_agency\", \"displayName\": \"Travel Agency\", \"isPredicted\": False}]                                                                                                                                                                                                                                        |NULL             |\n",
            "|[{\"categoryId\": \"insurance_agency\", \"displayName\": \"Insurance Agency\", \"isPredicted\": False}, {\"categoryId\": \"insurance_company\", \"displayName\": \"Insurance Company\", \"isPredicted\": False}, {\"categoryId\": \"travel_insurance_company\", \"displayName\": \"Travel Insurance Company\", \"isPredicted\": False}]                                                                                                                                                                                                                                                                                                                             |NULL             |\n",
            "|[{\"categoryId\": \"insurance_agency\", \"displayName\": \"Insurance Agency\", \"isPredicted\": False}, {\"categoryId\": \"travel_agency\", \"displayName\": \"Travel Agency\", \"isPredicted\": False}, {\"categoryId\": \"travel_insurance_company\", \"displayName\": \"Travel Insurance Company\", \"isPredicted\": False}, {\"categoryId\": \"financial_consultant\", \"displayName\": \"Financial Consultant\", \"isPredicted\": False}]                                                                                                                                                                                                                                |NULL             |\n",
            "|[{\"categoryId\": \"travel_agency\", \"displayName\": \"Travel Agency\", \"isPredicted\": False}, {\"categoryId\": \"travel_insurance_company\", \"displayName\": \"Travel Insurance Company\", \"isPredicted\": False}]                                                                                                                                                                                                                                                                                                                                                                                                                                  |NULL             |\n",
            "|[{\"categoryId\": \"ski_holiday_organizer\", \"displayName\": \"Ski Holidays\", \"isPredicted\": False}, {\"categoryId\": \"vacation_rental\", \"displayName\": \"Vacation Rental\", \"isPredicted\": False}, {\"categoryId\": \"hotel\", \"displayName\": \"Hotel\", \"isPredicted\": False}, {\"categoryId\": \"travel_insurance_company\", \"displayName\": \"Travel Insurance Company\", \"isPredicted\": False}, {\"categoryId\": \"travel_agency\", \"displayName\": \"Travel Agency\", \"isPredicted\": False}, {\"categoryId\": \"tour_operator\", \"displayName\": \"Tour Operator\", \"isPredicted\": False}, {\"categoryId\": \"cottage\", \"displayName\": \"Cottage\", \"isPredicted\": False}]|NULL             |\n",
            "|[{\"categoryId\": \"travel_insurance_company\", \"displayName\": \"Travel Insurance Company\", \"isPredicted\": False}, {\"categoryId\": \"software_company\", \"displayName\": \"Software Company\", \"isPredicted\": False}, {\"categoryId\": \"event_technology_service\", \"displayName\": \"Event Technology Service\", \"isPredicted\": False}]                                                                                                                                                                                                                                                                                                               |NULL             |\n",
            "|[{\"categoryId\": \"life_insurance_agency\", \"displayName\": \"Life Insurance Agency\", \"isPredicted\": False}, {\"categoryId\": \"travel_agency\", \"displayName\": \"Travel Agency\", \"isPredicted\": False}, {\"categoryId\": \"insurance_agency\", \"displayName\": \"Insurance Agency\", \"isPredicted\": False}, {\"categoryId\": \"insurance_broker\", \"displayName\": \"Insurance Broker\", \"isPredicted\": False}, {\"categoryId\": \"health_insurance_agency\", \"displayName\": \"Health Insurance Agency\", \"isPredicted\": False}, {\"categoryId\": \"travel_insurance_company\", \"displayName\": \"Travel Insurance Company\", \"isPredicted\": False}]                      |NULL             |\n",
            "|[{\"categoryId\": \"insurance_company\", \"displayName\": \"Insurance Company\", \"isPredicted\": False}, {\"categoryId\": \"travel_insurance_company\", \"displayName\": \"Travel Insurance Company\", \"isPredicted\": False}]                                                                                                                                                                                                                                                                                                                                                                                                                          |NULL             |\n",
            "|[{\"categoryId\": \"travel_agency\", \"displayName\": \"Travel Agency\", \"isPredicted\": False}, {\"categoryId\": \"van_rental_agency\", \"displayName\": \"Van Rental Agency\", \"isPredicted\": False}, {\"categoryId\": \"car_sharing_location\", \"displayName\": \"Car Sharing Location\", \"isPredicted\": False}, {\"categoryId\": \"travel_insurance_company\", \"displayName\": \"Travel Insurance Company\", \"isPredicted\": False}, {\"categoryId\": \"liability_insurance_company\", \"displayName\": \"Liability Insurance Company\", \"isPredicted\": False}, {\"categoryId\": \"car_rental_agency\", \"displayName\": \"Car Rental Agency\", \"isPredicted\": False}]            |NULL             |\n",
            "|[{\"categoryId\": \"travel_insurance_company\", \"displayName\": \"Travel Insurance Company\", \"isPredicted\": False}, {\"categoryId\": \"insurance_company\", \"displayName\": \"Insurance Company\", \"isPredicted\": False}, {\"categoryId\": \"insurance_agency\", \"displayName\": \"Insurance Agency\", \"isPredicted\": False}]                                                                                                                                                                                                                                                                                                                             |NULL             |\n",
            "|[{\"categoryId\": \"travel_insurance_company\", \"displayName\": \"Travel Insurance Company\", \"isPredicted\": False}]                                                                                                                                                                                                                                                                                                                                                                                                                                                                                                                         |NULL             |\n",
            "+--------------------------------------------------------------------------------------------------------------------------------------------------------------------------------------------------------------------------------------------------------------------------------------------------------------------------------------------------------------------------------------------------------------------------------------------------------------------------------------------------------------------------------------------------------------------------------------------------------------------------------------+-----------------+\n",
            "only showing top 20 rows\n",
            "\n"
          ]
        }
      ]
    },
    {
      "cell_type": "code",
      "source": [
        "df_new.select('parsed_categories').show(5)"
      ],
      "metadata": {
        "colab": {
          "base_uri": "https://localhost:8080/"
        },
        "id": "yGaY4a1GtPCi",
        "outputId": "82a30d23-89a5-4810-ee5b-651635a2e7e7"
      },
      "execution_count": 62,
      "outputs": [
        {
          "output_type": "stream",
          "name": "stdout",
          "text": [
            "+-----------------+\n",
            "|parsed_categories|\n",
            "+-----------------+\n",
            "|             NULL|\n",
            "|             NULL|\n",
            "|             NULL|\n",
            "|             NULL|\n",
            "|             NULL|\n",
            "+-----------------+\n",
            "only showing top 5 rows\n",
            "\n"
          ]
        }
      ]
    },
    {
      "cell_type": "code",
      "source": [
        "df_new = df_new.drop( 'location', 'location_json', 'contact', 'contact_json', 'parsed_categories')\n",
        "df_new.show(5)"
      ],
      "metadata": {
        "colab": {
          "base_uri": "https://localhost:8080/"
        },
        "id": "59bEr_LjtPFg",
        "outputId": "836d3cfd-c800-4f0e-8281-3870b96dad9c"
      },
      "execution_count": 75,
      "outputs": [
        {
          "output_type": "stream",
          "name": "stdout",
          "text": [
            "+--------------------+---------------+------+--------------------+--------------------+------------+--------+-------------+--------------------+--------------------+-----------+--------------------+\n",
            "|         companyname|numberOfReviews|rating|          categories|             address|        city| zipcode|      country|             website|               email|phonenumber|  cleaned_categories|\n",
            "+--------------------+---------------+------+--------------------+--------------------+------------+--------+-------------+--------------------+--------------------+-----------+--------------------+\n",
            "|Allianz Partners USA|          82240|   4.2|[{'categoryId': '...|  9950 Mayland Drive|    Richmond|   23233|United States|http://www.allian...|help.team@allianz...|18668843556|[{\"categoryId\": \"...|\n",
            "|               AARDY|          25453|   4.9|[{'categoryId': '...|1200 South Pine I...|  Plantation|FL 33324|United States|https://www.aardy...|      Info@Aardy.com|16504926298|[{\"categoryId\": \"...|\n",
            "|            QEEQ.COM|          12298|   4.2|[{'categoryId': '...|                 N/A|         N/A|     N/A|United States| http://www.qeeq.com|    support@qeeq.com|          0|[{\"categoryId\": \"...|\n",
            "|                IMG®|          11458|   4.6|[{'categoryId': '...|9200 Keystone Cro...|Indianapolis|   46240|United States|https://imglobal.com|ratingsandreviews...|13176554500|[{\"categoryId\": \"...|\n",
            "|VisitorsCoverage ...|           6146|   4.7|[{'categoryId': '...|2350 Mission Coll...| Santa Clara|   95054|United States|https://www.Visit...|support@visitorsc...|18663849104|[{\"categoryId\": \"...|\n",
            "+--------------------+---------------+------+--------------------+--------------------+------------+--------+-------------+--------------------+--------------------+-----------+--------------------+\n",
            "only showing top 5 rows\n",
            "\n"
          ]
        }
      ]
    },
    {
      "cell_type": "code",
      "source": [
        "#cleaned_categories is pending ..."
      ],
      "metadata": {
        "id": "VZG3hRDWr7mh"
      },
      "execution_count": null,
      "outputs": []
    },
    {
      "cell_type": "code",
      "source": [],
      "metadata": {
        "id": "A6GsxwzNUMgo"
      },
      "execution_count": null,
      "outputs": []
    },
    {
      "cell_type": "code",
      "source": [],
      "metadata": {
        "id": "OFjDceCxUMj9"
      },
      "execution_count": null,
      "outputs": []
    }
  ]
}